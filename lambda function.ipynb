{
 "cells": [
  {
   "cell_type": "code",
   "execution_count": 4,
   "id": "5ced7650-641f-4ce7-a74f-f25bc1f2efd4",
   "metadata": {},
   "outputs": [],
   "source": [
    "def count_test(n):\n",
    "    count = 1\n",
    "    while count <= n:\n",
    "        yield count\n",
    "        count = count + 1"
   ]
  },
  {
   "cell_type": "code",
   "execution_count": 5,
   "id": "8764e320-f81f-42fc-af4e-228ed7705495",
   "metadata": {},
   "outputs": [],
   "source": [
    "c = count_test(5)\n"
   ]
  },
  {
   "cell_type": "code",
   "execution_count": 7,
   "id": "92f0c0f5-781d-4ebb-ae8e-a88b8ed2eb7c",
   "metadata": {},
   "outputs": [
    {
     "data": {
      "text/plain": [
       "generator"
      ]
     },
     "execution_count": 7,
     "metadata": {},
     "output_type": "execute_result"
    }
   ],
   "source": [
    "type(c)"
   ]
  },
  {
   "cell_type": "code",
   "execution_count": 6,
   "id": "4ed0476b-6db7-4a2b-84a0-bd661a796271",
   "metadata": {},
   "outputs": [
    {
     "name": "stdout",
     "output_type": "stream",
     "text": [
      "1\n",
      "2\n",
      "3\n",
      "4\n",
      "5\n"
     ]
    }
   ],
   "source": [
    "for i in c:\n",
    "    print(i)"
   ]
  },
  {
   "cell_type": "code",
   "execution_count": 8,
   "id": "c65e474d-9710-48d9-9ffc-fd24e114587a",
   "metadata": {},
   "outputs": [],
   "source": [
    "n = 3\n",
    "p = 2"
   ]
  },
  {
   "cell_type": "code",
   "execution_count": 9,
   "id": "d4457d6a-8b33-4c3d-8f8c-805b10e44e3e",
   "metadata": {},
   "outputs": [],
   "source": [
    "def test(n,p):\n",
    "    return n**p"
   ]
  },
  {
   "cell_type": "code",
   "execution_count": 10,
   "id": "507ec01d-a467-4a06-b500-e249f92b52c5",
   "metadata": {},
   "outputs": [
    {
     "data": {
      "text/plain": [
       "9"
      ]
     },
     "execution_count": 10,
     "metadata": {},
     "output_type": "execute_result"
    }
   ],
   "source": [
    "test(3,2)"
   ]
  },
  {
   "cell_type": "code",
   "execution_count": 12,
   "id": "5b04648e-2b67-4cde-9d68-e57670dc3ae4",
   "metadata": {},
   "outputs": [],
   "source": [
    " a = lambda n,p : n**p"
   ]
  },
  {
   "cell_type": "code",
   "execution_count": 13,
   "id": "6148ef09-6d74-4264-8ecf-b5a7d8bb6c71",
   "metadata": {},
   "outputs": [
    {
     "data": {
      "text/plain": [
       "9"
      ]
     },
     "execution_count": 13,
     "metadata": {},
     "output_type": "execute_result"
    }
   ],
   "source": [
    "a(3,2)"
   ]
  },
  {
   "cell_type": "code",
   "execution_count": 15,
   "id": "90825dba-41be-4b55-9e1c-4268f76d489f",
   "metadata": {},
   "outputs": [],
   "source": [
    "add = lambda x,y :x+y"
   ]
  },
  {
   "cell_type": "code",
   "execution_count": 16,
   "id": "d8d4a798-d1ee-495b-9315-d6d53279e9f3",
   "metadata": {},
   "outputs": [
    {
     "data": {
      "text/plain": [
       "9"
      ]
     },
     "execution_count": 16,
     "metadata": {},
     "output_type": "execute_result"
    }
   ],
   "source": [
    "add(4,5)"
   ]
  },
  {
   "cell_type": "code",
   "execution_count": 19,
   "id": "f5610df0-8f9e-4e44-84c1-01ff4784c316",
   "metadata": {},
   "outputs": [],
   "source": [
    "c_to_f = lambda c : (9/5)*c + 32"
   ]
  },
  {
   "cell_type": "code",
   "execution_count": 20,
   "id": "8d6e102e-d573-4efd-935f-cac91f99b06c",
   "metadata": {},
   "outputs": [
    {
     "data": {
      "text/plain": [
       "113.0"
      ]
     },
     "execution_count": 20,
     "metadata": {},
     "output_type": "execute_result"
    }
   ],
   "source": [
    "c_to_f(45)"
   ]
  },
  {
   "cell_type": "code",
   "execution_count": 21,
   "id": "e9913e1e-0c4e-4b7e-88a6-17a0944f52e7",
   "metadata": {},
   "outputs": [],
   "source": [
    "finding_max = lambda x,y : x if x > y else y"
   ]
  },
  {
   "cell_type": "code",
   "execution_count": 22,
   "id": "cf04c56b-d211-4dcc-9019-7cc614f678dc",
   "metadata": {},
   "outputs": [
    {
     "data": {
      "text/plain": [
       "34"
      ]
     },
     "execution_count": 22,
     "metadata": {},
     "output_type": "execute_result"
    }
   ],
   "source": [
    "finding_max(34,23)"
   ]
  },
  {
   "cell_type": "code",
   "execution_count": 23,
   "id": "a7269c4a-4af4-40b0-81bc-8a5ab5d2ef19",
   "metadata": {},
   "outputs": [],
   "source": [
    "s = \"pwskill\""
   ]
  },
  {
   "cell_type": "code",
   "execution_count": null,
   "id": "9b74a6dd-17da-4549-95b8-d198bf39c85f",
   "metadata": {},
   "outputs": [],
   "source": [
    "lambda s : len(s)"
   ]
  }
 ],
 "metadata": {
  "kernelspec": {
   "display_name": "Python 3 (ipykernel)",
   "language": "python",
   "name": "python3"
  },
  "language_info": {
   "codemirror_mode": {
    "name": "ipython",
    "version": 3
   },
   "file_extension": ".py",
   "mimetype": "text/x-python",
   "name": "python",
   "nbconvert_exporter": "python",
   "pygments_lexer": "ipython3",
   "version": "3.10.8"
  }
 },
 "nbformat": 4,
 "nbformat_minor": 5
}
